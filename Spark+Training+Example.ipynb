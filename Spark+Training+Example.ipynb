{
 "cells": [
  {
   "cell_type": "code",
   "execution_count": 1,
   "metadata": {
    "collapsed": false,
    "deletable": true,
    "editable": true
   },
   "outputs": [
    {
     "data": {
      "text/plain": [
       "Waiting for a Spark session to start..."
      ]
     },
     "metadata": {},
     "output_type": "display_data"
    },
    {
     "data": {
      "text/plain": [
       "vars = charge, charge_wo_dis, net_charge, net_charge_wo_dis\n",
       "input = prd2_dds.charge limit 1000\n",
       "df = [charge: double, charge_wo_dis: double, net_charge: double, net_charge_wo_dis: double]\n"
      ]
     },
     "metadata": {},
     "output_type": "display_data"
    },
    {
     "data": {
      "text/plain": [
       "[charge: double, charge_wo_dis: double, net_charge: double, net_charge_wo_dis: double]"
      ]
     },
     "execution_count": 1,
     "metadata": {},
     "output_type": "execute_result"
    }
   ],
   "source": [
    "val vars = \"charge, charge_wo_dis, net_charge, net_charge_wo_dis\"\n",
    "\n",
    "val input = \"prd2_dds.charge limit 1000\"\n",
    "\n",
    "var df = sqlContext.sql(s\"select $vars from $input\")"
   ]
  },
  {
   "cell_type": "code",
   "execution_count": 2,
   "metadata": {
    "collapsed": false,
    "deletable": true,
    "editable": true
   },
   "outputs": [
    {
     "data": {
      "text/plain": [
       "df = [charge: double, charge_wo_dis: double, net_charge: double, net_charge_wo_dis: double, label: double]\n"
      ]
     },
     "metadata": {},
     "output_type": "display_data"
    },
    {
     "data": {
      "text/plain": [
       "[charge: double, charge_wo_dis: double, net_charge: double, net_charge_wo_dis: double]"
      ]
     },
     "execution_count": 2,
     "metadata": {},
     "output_type": "execute_result"
    }
   ],
   "source": [
    "import org.apache.spark.sql.functions._\n",
    "\n",
    "df = df.na.drop\n",
    "        .withColumn(\"random_column\", randn*3)\n",
    "        .withColumn(\"label\", expr(\"10 + 20*charge + 30*charge_wo_dis - 20*net_charge - net_charge_wo_dis + random_column\"))\n",
    "        .drop(\"random_column\")"
   ]
  },
  {
   "cell_type": "code",
   "execution_count": 3,
   "metadata": {
    "collapsed": true,
    "deletable": true,
    "editable": true
   },
   "outputs": [
    {
     "data": {
      "text/plain": [
       "columns = ArrayBuffer(charge, charge_wo_dis, net_charge, net_charge_wo_dis)\n",
       "assembler = vecAssembler_09b2d2d9c5d6\n",
       "df = [label: double, features: vector]\n",
       "train = [label: double, features: vector]\n",
       "test = [label: double, features: vector]\n"
      ]
     },
     "metadata": {},
     "output_type": "display_data"
    },
    {
     "data": {
      "text/plain": [
       "[label: double, features: vector]"
      ]
     },
     "execution_count": 3,
     "metadata": {},
     "output_type": "execute_result"
    }
   ],
   "source": [
    "import org.apache.spark.ml.feature.VectorAssembler\n",
    "\n",
    "var df = sqlContext.sql(s\"select $vars from $input\")\n",
    "\n",
    "var columns = df.columns.toBuffer\n",
    "columns -= \"label\"\n",
    "\n",
    "val assembler = new VectorAssembler()\n",
    "  .setInputCols(columns.toArray)\n",
    "  .setOutputCol(\"features\")\n",
    "\n",
    "df = assembler.transform(df)\n",
    "columns.foreach(col => {df = df.drop(col)})\n",
    "\n",
    "val Array(train, test) = df.randomSplit(Array(0.7, 0.3), seed = 123)"
   ]
  },
  {
   "cell_type": "code",
   "execution_count": 4,
   "metadata": {
    "collapsed": true,
    "deletable": true,
    "editable": true
   },
   "outputs": [
    {
     "data": {
      "text/plain": [
       "lr = linReg_f0d34f93bea4\n",
       "lrModel = linReg_f0d34f93bea4\n"
      ]
     },
     "metadata": {},
     "output_type": "display_data"
    },
    {
     "data": {
      "text/plain": [
       "linReg_f0d34f93bea4"
      ]
     },
     "execution_count": 4,
     "metadata": {},
     "output_type": "execute_result"
    }
   ],
   "source": [
    "import org.apache.spark.ml.regression.LinearRegression\n",
    "\n",
    "val lr = new LinearRegression()\n",
    "  .setRegParam(0.3)\n",
    "\n",
    "val lrModel = lr.fit(train)"
   ]
  },
  {
   "cell_type": "code",
   "execution_count": 5,
   "metadata": {
    "collapsed": false,
    "deletable": true,
    "editable": true
   },
   "outputs": [
    {
     "data": {
      "text/plain": [
       "trainingSummary: org.apache.spark.ml.regression.LinearRegressionTrainingSummary = org.apache.spark.ml.regression.LinearRegressionTrainingSummary@4670153b\n"
      ]
     },
     "metadata": {},
     "output_type": "display_data"
    },
    {
     "name": "stdout",
     "output_type": "stream",
     "text": [
      "Coefficients: [3.2452805441963943,12.854794608981743,3.8276264837046803,15.168657983361008] Intercept: 11.054638359342487\n",
      "numIterations: 1\n",
      "RMSE: 3.076037095196053\n",
      "r2: 0.9999853840607333\n"
     ]
    }
   ],
   "source": [
    "println(s\"Coefficients: ${lrModel.coefficients} Intercept: ${lrModel.intercept}\")\n",
    "\n",
    "val trainingSummary = lrModel.summary\n",
    "println(s\"numIterations: ${trainingSummary.totalIterations}\")\n",
    "println(s\"RMSE: ${trainingSummary.rootMeanSquaredError}\")\n",
    "println(s\"r2: ${trainingSummary.r2}\")"
   ]
  },
  {
   "cell_type": "code",
   "execution_count": 6,
   "metadata": {
    "collapsed": false,
    "deletable": true,
    "editable": true
   },
   "outputs": [
    {
     "data": {
      "text/plain": [
       "results: org.apache.spark.sql.DataFrame = [label: double, features: vector, prediction: double]\n"
      ]
     },
     "metadata": {},
     "output_type": "display_data"
    },
    {
     "name": "stdout",
     "output_type": "stream",
     "text": [
      "+------------------+-----------------------+------------------+\n",
      "|label             |features               |prediction        |\n",
      "+------------------+-----------------------+------------------+\n",
      "|17.044277454247627|[0.3,0.3,0.25,0.254237]|20.69800162593785 |\n",
      "|17.92339429266562 |[0.5,0.5,0.42,0.423729]|27.139679337719098|\n",
      "|18.158274970339093|[0.5,0.5,0.42,0.423729]|27.139679337719098|\n",
      "|19.439520829081825|[0.5,0.5,0.42,0.423729]|27.139679337719098|\n",
      "|19.64731062764445 |[0.3,0.3,0.25,0.254237]|20.69800162593785 |\n",
      "|20.080913987153533|[0.5,0.5,0.42,0.423729]|27.139679337719098|\n",
      "|20.1386868316536  |[0.5,0.5,0.42,0.423729]|27.139679337719098|\n",
      "|20.13900809225025 |[0.5,0.5,0.42,0.423729]|27.139679337719098|\n",
      "|20.89338948807242 |[0.5,0.5,0.42,0.423729]|27.139679337719098|\n",
      "|20.935095696986764|[0.5,0.5,0.42,0.423729]|27.139679337719098|\n",
      "|20.9688438676972  |[0.5,0.5,0.42,0.423729]|27.139679337719098|\n",
      "|20.99205647305491 |[0.5,0.5,0.42,0.423729]|27.139679337719098|\n",
      "|21.070159567714896|[0.5,0.5,0.42,0.423729]|27.139679337719098|\n",
      "|21.151449290171705|[0.5,0.5,0.42,0.423729]|27.139679337719098|\n",
      "|21.24918746464857 |[0.5,0.5,0.42,0.423729]|27.139679337719098|\n",
      "|21.31697378906457 |[0.5,0.5,0.42,0.423729]|27.139679337719098|\n",
      "|21.466176251296233|[0.5,0.5,0.42,0.423729]|27.139679337719098|\n",
      "|21.52034599501195 |[0.5,0.5,0.42,0.423729]|27.139679337719098|\n",
      "|21.539149450225267|[0.5,0.5,0.42,0.423729]|27.139679337719098|\n",
      "|21.540687845116842|[0.5,0.5,0.42,0.423729]|27.139679337719098|\n",
      "+------------------+-----------------------+------------------+\n",
      "only showing top 20 rows\n",
      "\n"
     ]
    }
   ],
   "source": [
    "val results = lrModel.transform(test)\n",
    "\n",
    "results.show(false)"
   ]
  },
  {
   "cell_type": "code",
   "execution_count": 7,
   "metadata": {
    "collapsed": false,
    "deletable": true,
    "editable": true
   },
   "outputs": [
    {
     "name": "stdout",
     "output_type": "stream",
     "text": [
      "SLF4J: Class path contains multiple SLF4J bindings.\n",
      "SLF4J: Found binding in [jar:file:/opt/cloudera/parcels/CDH-5.10.2-1.cdh5.10.2.p0.5/jars/hive-exec-1.1.0-cdh5.10.2.jar!/shaded/parquet/org/slf4j/impl/StaticLoggerBinder.class]\n",
      "SLF4J: Found binding in [jar:file:/opt/cloudera/parcels/CDH-5.10.2-1.cdh5.10.2.p0.5/jars/hive-jdbc-1.1.0-cdh5.10.2-standalone.jar!/shaded/parquet/org/slf4j/impl/StaticLoggerBinder.class]\n",
      "SLF4J: Found binding in [jar:file:/opt/cloudera/parcels/CDH-5.10.2-1.cdh5.10.2.p0.5/jars/parquet-format-2.1.0-cdh5.10.2.jar!/shaded/parquet/org/slf4j/impl/StaticLoggerBinder.class]\n",
      "SLF4J: Found binding in [jar:file:/opt/cloudera/parcels/CDH-5.10.2-1.cdh5.10.2.p0.5/jars/parquet-hadoop-bundle-1.5.0-cdh5.10.2.jar!/shaded/parquet/org/slf4j/impl/StaticLoggerBinder.class]\n",
      "SLF4J: Found binding in [jar:file:/opt/cloudera/parcels/CDH-5.10.2-1.cdh5.10.2.p0.5/jars/parquet-pig-bundle-1.5.0-cdh5.10.2.jar!/shaded/parquet/org/slf4j/impl/StaticLoggerBinder.class]\n",
      "SLF4J: See http://www.slf4j.org/codes.html#multiple_bindings for an explanation.\n",
      "SLF4J: Actual binding is of type [shaded.parquet.org.slf4j.helpers.NOPLoggerFactory]\n"
     ]
    }
   ],
   "source": [
    "lrModel.save(\"lrModel\")"
   ]
  },
  {
   "cell_type": "code",
   "execution_count": 8,
   "metadata": {
    "collapsed": false,
    "deletable": true,
    "editable": true
   },
   "outputs": [
    {
     "data": {
      "text/plain": [
       "loadedModel = linReg_080d21081642\n"
      ]
     },
     "metadata": {},
     "output_type": "display_data"
    },
    {
     "data": {
      "text/plain": [
       "linReg_080d21081642"
      ]
     },
     "execution_count": 8,
     "metadata": {},
     "output_type": "execute_result"
    }
   ],
   "source": [
    "import org.apache.spark.ml.regression.LinearRegressionModel\n",
    "\n",
    "val loadedModel = LinearRegressionModel.load(\"lrModel\")"
   ]
  },
  {
   "cell_type": "code",
   "execution_count": 9,
   "metadata": {
    "collapsed": false,
    "deletable": true,
    "editable": true
   },
   "outputs": [
    {
     "data": {
      "text/plain": [
       "resultsFromLoaded: org.apache.spark.sql.DataFrame = [charge: double, charge_wo_dis: double, net_charge: double, net_charge_wo_dis: double, label: double, features: vector, prediction: double]\n"
      ]
     },
     "metadata": {},
     "output_type": "display_data"
    },
    {
     "name": "stdout",
     "output_type": "stream",
     "text": [
      "+------+-------------+----------+-----------------+------------------+----------------------+------------------+\n",
      "|charge|charge_wo_dis|net_charge|net_charge_wo_dis|label             |features              |prediction        |\n",
      "+------+-------------+----------+-----------------+------------------+----------------------+------------------+\n",
      "|0.0   |0.3          |0.0       |0.254237         |12.974408468059341|[0.0,0.3,0.0,0.254237]|18.721849221198553|\n",
      "|0.0   |0.3          |0.0       |0.254237         |14.427797340419037|[0.0,0.3,0.0,0.254237]|18.721849221198553|\n",
      "|0.0   |0.3          |0.0       |0.254237         |14.455813284180346|[0.0,0.3,0.0,0.254237]|18.721849221198553|\n",
      "|0.0   |0.3          |0.0       |0.254237         |19.346970712887245|[0.0,0.3,0.0,0.254237]|18.721849221198553|\n",
      "|0.0   |0.3          |0.0       |0.254237         |22.040643086808526|[0.0,0.3,0.0,0.254237]|18.721849221198553|\n",
      "|0.0   |1.0          |0.0       |0.847458         |39.07093939954831 |[0.0,1.0,0.0,0.847458]|39.1049699013021  |\n",
      "|0.0   |1.4          |0.0       |1.186441         |47.84617187283635 |[0.0,1.4,0.0,1.186441]|50.752460069911564|\n",
      "|0.0   |1.4          |0.0       |1.186441         |47.94638022334246 |[0.0,1.4,0.0,1.186441]|50.752460069911564|\n",
      "|0.0   |1.4          |0.0       |1.186441         |52.52549961977627 |[0.0,1.4,0.0,1.186441]|50.752460069911564|\n",
      "|0.0   |1.4          |0.0       |1.186441         |54.46494374183176 |[0.0,1.4,0.0,1.186441]|50.752460069911564|\n",
      "|0.0   |3.0          |0.0       |2.542373         |94.4926807361521  |[0.0,3.0,0.0,2.542373]|97.34242074434945 |\n",
      "|0.0   |3.0          |0.0       |2.542373         |96.87721811335355 |[0.0,3.0,0.0,2.542373]|97.34242074434945 |\n",
      "|0.0   |3.0          |0.0       |2.542373         |99.45201874690612 |[0.0,3.0,0.0,2.542373]|97.34242074434945 |\n",
      "|0.0   |3.3          |0.0       |2.79661          |101.88118350120402|[0.0,3.3,0.0,2.79661] |106.07803407579422|\n",
      "|0.0   |4.0          |0.0       |3.389831         |125.02601178617509|[0.0,4.0,0.0,3.389831]|126.46115475589777|\n",
      "|0.0   |4.0          |0.0       |3.389831         |125.51207574222835|[0.0,4.0,0.0,3.389831]|126.46115475589777|\n",
      "|0.0   |4.0          |0.0       |3.389831         |128.67899844565898|[0.0,4.0,0.0,3.389831]|126.46115475589777|\n",
      "|0.0   |5.0          |0.0       |4.237288         |147.62975418975105|[0.0,5.0,0.0,4.237288]|155.5798715873968 |\n",
      "|0.0   |5.0          |0.0       |4.237288         |151.33063102941307|[0.0,5.0,0.0,4.237288]|155.5798715873968 |\n",
      "|0.0   |5.0          |0.0       |4.237288         |152.80647138399976|[0.0,5.0,0.0,4.237288]|155.5798715873968 |\n",
      "+------+-------------+----------+-----------------+------------------+----------------------+------------------+\n",
      "only showing top 20 rows\n",
      "\n"
     ]
    }
   ],
   "source": [
    "val resultsFromLoaded = loadedModel.transform(test)\n",
    "\n",
    "resultsFromLoaded.show(false)"
   ]
  },
  {
   "cell_type": "code",
   "execution_count": null,
   "metadata": {
    "collapsed": true,
    "deletable": true,
    "editable": true
   },
   "outputs": [],
   "source": []
  }
 ],
 "metadata": {
  "kernelspec": {
   "display_name": "Apache Toree - Scala (Spark Scoring)",
   "language": "scala",
   "name": "apache_toree_scala_scoring"
  },
  "language_info": {
   "codemirror_mode": "text/x-scala",
   "file_extension": ".scala",
   "mimetype": "text/x-scala",
   "name": "scala",
   "pygments_lexer": "scala",
   "version": "2.10.5"
  }
 },
 "nbformat": 4,
 "nbformat_minor": 2
}
