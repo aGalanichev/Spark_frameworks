{
 "cells": [
  {
   "cell_type": "markdown",
   "metadata": {
    "deletable": true,
    "editable": true
   },
   "source": [
    "# Deeplearning4j\n",
    "+ Импорт данных\n",
    "+ Конфигурация нейронной сети\n",
    "+ TrainingMaster\n",
    "+ Обучение\n",
    "+ Результаты"
   ]
  },
  {
   "cell_type": "code",
   "execution_count": 1,
   "metadata": {
    "collapsed": true,
    "deletable": true,
    "editable": true
   },
   "outputs": [],
   "source": [
    "import org.apache.spark.mllib.regression.LabeledPoint\n",
    "import org.deeplearning4j.nn.conf.NeuralNetConfiguration\n",
    "import org.deeplearning4j.nn.conf.layers.{DenseLayer, OutputLayer}\n",
    "import org.deeplearning4j.nn.weights.WeightInit\n",
    "import org.deeplearning4j.optimize.listeners.ScoreIterationListener\n",
    "import org.deeplearning4j.spark.impl.multilayer.SparkDl4jMultiLayer\n",
    "import org.deeplearning4j.spark.impl.paramavg.ParameterAveragingTrainingMaster\n",
    "import org.nd4j.linalg.activations.Activation\n",
    "import org.nd4j.linalg.lossfunctions.LossFunctions\n",
    "import org.deeplearning4j.spark.util.MLLibUtil.fromLabeledPoint\n",
    "import org.apache.spark.mllib.linalg.Vectors\n",
    "\n",
    "import org.nd4j.Nd4jRegistrator"
   ]
  },
  {
   "cell_type": "markdown",
   "metadata": {
    "deletable": true,
    "editable": true
   },
   "source": [
    "# Импорт данных\n",
    "Создадим RDD с LabeledPoint"
   ]
  },
  {
   "cell_type": "code",
   "execution_count": 2,
   "metadata": {
    "collapsed": false,
    "deletable": true,
    "editable": true
   },
   "outputs": [
    {
     "data": {
      "text/plain": [
       "Waiting for a Spark session to start..."
      ]
     },
     "metadata": {},
     "output_type": "display_data"
    },
    {
     "data": {
      "text/plain": [
       "data = MapPartitionsRDD[4] at map at <console>:43\n"
      ]
     },
     "metadata": {},
     "output_type": "display_data"
    },
    {
     "data": {
      "text/plain": [
       "(0.0,[5.1,3.5,1.4,0.2])"
      ]
     },
     "execution_count": 2,
     "metadata": {},
     "output_type": "execute_result"
    }
   ],
   "source": [
    "val data = (sc.textFile(\"/user/supp.bda08/iris.csv\")\n",
    "    .filter(_ != \"0,1,2,3,0\")\n",
    "    .map(_.split(\",\"))\n",
    "    .map(row => {\n",
    "        val vector = row.slice(0,4).map(_.toDouble)\n",
    "        val label  = row(4).toInt\n",
    "        LabeledPoint(label, Vectors.dense(vector))\n",
    "    }))\n",
    "\n",
    "data.first"
   ]
  },
  {
   "cell_type": "markdown",
   "metadata": {
    "collapsed": true,
    "deletable": true,
    "editable": true
   },
   "source": [
    "Разделим выборку на обучение и тест"
   ]
  },
  {
   "cell_type": "code",
   "execution_count": 3,
   "metadata": {
    "collapsed": false,
    "deletable": true,
    "editable": true
   },
   "outputs": [
    {
     "data": {
      "text/plain": [
       "splited = Array(MapPartitionsRDD[5] at randomSplit at <console>:42, MapPartitionsRDD[6] at randomSplit at <console>:42)\n",
       "train = MapPartitionsRDD[5] at randomSplit at <console>:42\n",
       "test = MapPartitionsRDD[6] at randomSplit at <console>:42\n"
      ]
     },
     "metadata": {},
     "output_type": "display_data"
    },
    {
     "data": {
      "text/plain": [
       "MapPartitionsRDD[6] at randomSplit at <console>:42"
      ]
     },
     "execution_count": 3,
     "metadata": {},
     "output_type": "execute_result"
    }
   ],
   "source": [
    "val splited = data.randomSplit(weights = Array(0.65, 0.35), seed = 11)\n",
    "\n",
    "val train = splited(0)\n",
    "val test = splited(1)"
   ]
  },
  {
   "cell_type": "markdown",
   "metadata": {
    "deletable": true,
    "editable": true
   },
   "source": [
    "# Конфигурация нейронной сети\n",
    "Зададим конфигурацию и алгоритм обучения нейронной сети"
   ]
  },
  {
   "cell_type": "code",
   "execution_count": 4,
   "metadata": {
    "collapsed": true,
    "deletable": true,
    "editable": true
   },
   "outputs": [
    {
     "data": {
      "text/plain": [
       "numInputs = 4\n",
       "outputNum = 3\n",
       "iterations = 1000\n",
       "seed = 6\n",
       "conf = \n"
      ]
     },
     "metadata": {},
     "output_type": "display_data"
    },
    {
     "data": {
      "text/plain": [
       "        \"lea...\n"
      ]
     },
     "metadata": {},
     "output_type": "display_data"
    },
    {
     "data": {
      "text/plain": [
       "{\n",
       "  \"backprop\" : true,\n",
       "  \"backpropType\" : \"Standard\",\n",
       "  \"confs\" : [ {\n",
       "    \"iterationCount\" : 0,\n",
       "    \"l1ByParam\" : { },\n",
       "    \"l2ByParam\" : { },\n",
       "    \"layer\" : {\n",
       "      \"dense\" : {\n",
       "        \"activationFn\" : {\n",
       "          \"TanH\" : { }\n",
       "        },\n",
       "        \"adamMeanDecay\" : \"NaN\",\n",
       "        \"adamVarDecay\" : \"NaN\",\n",
       "        \"biasInit\" : 0.0,\n",
       "        \"biasLearningRate\" : 0.1,\n",
       "        \"dist\" : null,\n",
       "        \"dropOut\" : 0.0,\n",
       "        \"epsilon\" : \"NaN\",\n",
       "        \"gradientNormalization\" : \"None\",\n",
       "        \"gradientNormalizationThreshold\" : 1.0,\n",
       "        \"l1\" : 0.0,\n",
       "        \"l1Bias\" : 0.0,\n",
       "        \"l2\" : 1.0E-4,\n",
       "        \"l2Bias\" : 0.0,\n",
       "        \"layerName\" : \"layer0\",\n",
       "        \"learningRate\" : 0.1,\n",
       "        \"learningRateSchedule\" : null,\n",
       "        \"momentum\" : \"NaN\",\n",
       "        \"momentumSchedule\" : null,\n",
       "        \"nin\" : 4,\n",
       "        \"nout\" : 3,\n",
       "        \"rho\" : \"NaN\",\n",
       "        \"rmsDecay\" : \"NaN\",\n",
       "        \"updater\" : \"SGD\",\n",
       "        \"weightInit\" : \"XAVIER\"\n",
       "      }\n",
       "    },\n",
       "    \"leakyreluAlpha\" : 0.0,\n",
       "    \"learningRateByParam\" : { },\n",
       "    \"learningRatePolicy\" : \"None\",\n",
       "    \"lrPolicyDecayRate\" : \"NaN\",\n",
       "    \"lrPolicyPower\" : \"NaN\",\n",
       "    \"lrPolicySteps\" : \"NaN\",\n",
       "    \"maxNumLineSearchIterations\" : 5,\n",
       "    \"miniBatch\" : true,\n",
       "    \"minimize\" : true,\n",
       "    \"numIterations\" : 1000,\n",
       "    \"optimizationAlgo\" : \"STOCHASTIC_GRADIENT_DESCENT\",\n",
       "    \"pretrain\" : false,\n",
       "    \"seed\" : 6,\n",
       "    \"stepFunction\" : null,\n",
       "    \"useDropConnect\" : false,\n",
       "    \"useRegularization\" : true,\n",
       "    \"variables\" : [ ]\n",
       "  }, {\n",
       "    \"iterationCount\" : 0,\n",
       "    \"l1ByParam\" : { },\n",
       "    \"l2ByParam\" : { },\n",
       "    \"layer\" : {\n",
       "      \"dense\" : {\n",
       "        \"activationFn\" : {\n",
       "          \"TanH\" : { }\n",
       "        },\n",
       "        \"adamMeanDecay\" : \"NaN\",\n",
       "        \"adamVarDecay\" : \"NaN\",\n",
       "        \"biasInit\" : 0.0,\n",
       "        \"biasLearningRate\" : 0.1,\n",
       "        \"dist\" : null,\n",
       "        \"dropOut\" : 0.0,\n",
       "        \"epsilon\" : \"NaN\",\n",
       "        \"gradientNormalization\" : \"None\",\n",
       "        \"gradientNormalizationThreshold\" : 1.0,\n",
       "        \"l1\" : 0.0,\n",
       "        \"l1Bias\" : 0.0,\n",
       "        \"l2\" : 1.0E-4,\n",
       "        \"l2Bias\" : 0.0,\n",
       "        \"layerName\" : \"layer1\",\n",
       "        \"learningRate\" : 0.1,\n",
       "        \"learningRateSchedule\" : null,\n",
       "        \"momentum\" : \"NaN\",\n",
       "        \"momentumSchedule\" : null,\n",
       "        \"nin\" : 3,\n",
       "        \"nout\" : 3,\n",
       "        \"rho\" : \"NaN\",\n",
       "        \"rmsDecay\" : \"NaN\",\n",
       "        \"updater\" : \"SGD\",\n",
       "        \"weightInit\" : \"XAVIER\"\n",
       "      }\n",
       "    },\n",
       "    \"leakyreluAlpha\" : 0.0,\n",
       "    \"learningRateByParam\" : { },\n",
       "    \"learningRatePolicy\" : \"None\",\n",
       "    \"lrPolicyDecayRate\" : \"NaN\",\n",
       "    \"lrPolicyPower\" : \"NaN\",\n",
       "    \"lrPolicySteps\" : \"NaN\",\n",
       "    \"maxNumLineSearchIterations\" : 5,\n",
       "    \"miniBatch\" : true,\n",
       "    \"minimize\" : true,\n",
       "    \"numIterations\" : 1000,\n",
       "    \"optimizationAlgo\" : \"STOCHASTIC_GRADIENT_DESCENT\",\n",
       "    \"pretrain\" : false,\n",
       "    \"seed\" : 6,\n",
       "    \"stepFunction\" : null,\n",
       "    \"useDropConnect\" : false,\n",
       "    \"useRegularization\" : true,\n",
       "    \"variables\" : [ ]\n",
       "  }, {\n",
       "    \"iterationCount\" : 0,\n",
       "    \"l1ByParam\" : { },\n",
       "    \"l2ByParam\" : { },\n",
       "    \"layer\" : {\n",
       "      \"output\" : {\n",
       "        \"activationFn\" : {\n",
       "          \"Softmax\" : { }\n",
       "        },\n",
       "        \"adamMeanDecay\" : \"NaN\",\n",
       "        \"adamVarDecay\" : \"NaN\",\n",
       "        \"biasInit\" : 0.0,\n",
       "        \"biasLearningRate\" : 0.1,\n",
       "        \"dist\" : null,\n",
       "        \"dropOut\" : 0.0,\n",
       "        \"epsilon\" : \"NaN\",\n",
       "        \"gradientNormalization\" : \"None\",\n",
       "        \"gradientNormalizationThreshold\" : 1.0,\n",
       "        \"l1\" : 0.0,\n",
       "        \"l1Bias\" : 0.0,\n",
       "        \"l2\" : 1.0E-4,\n",
       "        \"l2Bias\" : 0.0,\n",
       "        \"layerName\" : \"layer2\",\n",
       "        \"learningRate\" : 0.1,\n",
       "        \"learningRateSchedule\" : null,\n",
       "        \"lossFn\" : {\n",
       "          \"NegativeLogLikelihood\" : { }\n",
       "        },\n",
       "        \"lossFunction\" : \"NEGATIVELOGLIKELIHOOD\",\n",
       "        \"momentum\" : \"NaN\",\n",
       "        \"momentumSchedule\" : null,\n",
       "        \"nin\" : 3,\n",
       "        \"nout\" : 3,\n",
       "        \"rho\" : \"NaN\",\n",
       "        \"rmsDecay\" : \"NaN\",\n",
       "        \"updater\" : \"SGD\",\n",
       "        \"weightInit\" : \"XAVIER\"\n",
       "      }\n",
       "    },\n",
       "    \"leakyreluAlpha\" : 0.0,\n",
       "    \"learningRateByParam\" : { },\n",
       "    \"learningRatePolicy\" : \"None\",\n",
       "    \"lrPolicyDecayRate\" : \"NaN\",\n",
       "    \"lrPolicyPower\" : \"NaN\",\n",
       "    \"lrPolicySteps\" : \"NaN\",\n",
       "    \"maxNumLineSearchIterations\" : 5,\n",
       "    \"miniBatch\" : true,\n",
       "    \"minimize\" : true,\n",
       "    \"numIterations\" : 1000,\n",
       "    \"optimizationAlgo\" : \"STOCHASTIC_GRADIENT_DESCENT\",\n",
       "    \"pretrain\" : false,\n",
       "    \"seed\" : 6,\n",
       "    \"stepFunction\" : null,\n",
       "    \"useDropConnect\" : false,\n",
       "    \"useRegularization\" : true,\n",
       "    \"variables\" : [ ]\n",
       "  } ],\n",
       "  \"inputPreProcessors\" : { },\n",
       "  \"iterationCount\" : 0,\n",
       "  \"pretrain\" : false,\n",
       "  \"tbpttBackLength\" : 20,\n",
       "  \"tbpttFwdLength\" : 20\n",
       "}"
      ]
     },
     "execution_count": 4,
     "metadata": {},
     "output_type": "execute_result"
    }
   ],
   "source": [
    "val numInputs = 4\n",
    "val outputNum = 3\n",
    "val iterations = 1000\n",
    "val seed = 6\n",
    "\n",
    "val conf = (new NeuralNetConfiguration.Builder()\n",
    "  .seed(seed).iterations(iterations)\n",
    "  .activation(Activation.TANH)\n",
    "  .weightInit(WeightInit.XAVIER)\n",
    "  .learningRate(0.1)\n",
    "  .regularization(true).l2(1e-4)\n",
    "  .list\n",
    "  .layer(0, new DenseLayer.Builder().nIn(numInputs).nOut(3).build)\n",
    "  .layer(1, new DenseLayer.Builder().nIn(3).nOut(3).build)\n",
    "  .layer(2, new OutputLayer.Builder(LossFunctions.LossFunction.NEGATIVELOGLIKELIHOOD)\n",
    "    .activation(Activation.SOFTMAX).nIn(3).nOut(outputNum).build)\n",
    "  .backprop(true).pretrain(false)\n",
    "  .build)"
   ]
  },
  {
   "cell_type": "markdown",
   "metadata": {
    "deletable": true,
    "editable": true
   },
   "source": [
    "# TrainingMaster\n",
    "TrainingMaster задает опции, необходимые для распределенного обучения"
   ]
  },
  {
   "cell_type": "code",
   "execution_count": 5,
   "metadata": {
    "collapsed": false,
    "deletable": true,
    "editable": true
   },
   "outputs": [
    {
     "data": {
      "text/plain": [
       "batchSizePerWorker = 16\n",
       "tm = ParameterAveragingTrainingMaster(saveUpdater=false, numWorkers=null, rddDataSetNumExamples=16, batchSizePerWorker=16, averagingFrequency=5, prefetchNumBatches=2, collectTrainingStats=false, stats=null, iterationCount=0, repartition=Always, repartitionStrategy=Balanced, storageLevel=StorageLevel(false, true, false, false, 1), storageLevelStreams=StorageLevel(false, true, false, true, 1), rddTrainingApproach=Export, exportDirectory=null, rng=java.util.Random@240d2366, trainingHookList=null, lastExportedRDDId=-2147483648, lastRDDExportPath=null, trainingMasterUID=1508325876828_60379857, listeners=null, statsStorage=null)\n"
      ]
     },
     "metadata": {},
     "output_type": "display_data"
    },
    {
     "data": {
      "text/plain": [
       "ParameterAveragingTrainingMaster(saveUpdater=false, numWorkers=null, rddDataSetNumExamples=16, batchSizePerWorker=16, averagingFrequency=5, prefetchNumBatches=2, collectTrainingStats=false, stats=null, iterationCount=0, repartition=Always, repartitionStrategy=Balanced, storageLevel=StorageLevel(false, true, false, false, 1), storageLevelStreams=StorageLevel(false, true, false, true, 1), rddTrainingApproach=Export, exportDirectory=null, rng=java.util.Random@240d2366, trainingHookList=null, lastExportedRDDId=-2147483648, lastRDDExportPath=null, trainingMasterUID=1508325876828_60379857, listeners=null, statsStorage=null)"
      ]
     },
     "execution_count": 5,
     "metadata": {},
     "output_type": "execute_result"
    }
   ],
   "source": [
    "val batchSizePerWorker = 16\n",
    "val tm = (new ParameterAveragingTrainingMaster.Builder(batchSizePerWorker)\n",
    "  .averagingFrequency(5)\n",
    "  .workerPrefetchNumBatches(2)\n",
    "  .batchSizePerWorker(batchSizePerWorker)\n",
    "  .build)"
   ]
  },
  {
   "cell_type": "markdown",
   "metadata": {
    "deletable": true,
    "editable": true
   },
   "source": [
    "# Обучение\n",
    "Создадим объект SparkDl4jMultiLayer, который принимает SparkContext, конфигурацию нейронной сети и TrainingMaster."
   ]
  },
  {
   "cell_type": "code",
   "execution_count": 6,
   "metadata": {
    "collapsed": false,
    "deletable": true,
    "editable": true
   },
   "outputs": [
    {
     "data": {
      "text/plain": [
       "sparkNet = org.deeplearning4j.spark.impl.multilayer.SparkDl4jMultiLayer@7ec9903f\n",
       "trainRDD = MapPartitionsRDD[11] at flatMap at MLLibUtil.java:240\n"
      ]
     },
     "metadata": {},
     "output_type": "display_data"
    },
    {
     "data": {
      "text/plain": [
       "MapPartitionsRDD[11] at flatMap at MLLibUtil.java:240"
      ]
     },
     "execution_count": 6,
     "metadata": {},
     "output_type": "execute_result"
    }
   ],
   "source": [
    "val sparkNet = new SparkDl4jMultiLayer(sc, conf, tm)\n",
    "sparkNet.setListeners(new ScoreIterationListener(100))\n",
    "\n",
    "val trainRDD = fromLabeledPoint(train, 3, train.count.toInt)\n",
    "trainRDD.cache()"
   ]
  },
  {
   "cell_type": "markdown",
   "metadata": {
    "deletable": true,
    "editable": true
   },
   "source": [
    "Проведем обучение на 10 эпохах"
   ]
  },
  {
   "cell_type": "code",
   "execution_count": 7,
   "metadata": {
    "collapsed": false,
    "deletable": true,
    "editable": true
   },
   "outputs": [
    {
     "data": {
      "text/plain": [
       "epochs: Int = 10\n"
      ]
     },
     "metadata": {},
     "output_type": "display_data"
    }
   ],
   "source": [
    "val epochs = 10\n",
    "for (i <- 1 to epochs) {\n",
    "  sparkNet.fit(trainRDD)\n",
    "}"
   ]
  },
  {
   "cell_type": "markdown",
   "metadata": {
    "deletable": true,
    "editable": true
   },
   "source": [
    "# Результаты\n",
    "Посмотрим на результаты модели на тестовой выборке"
   ]
  },
  {
   "cell_type": "code",
   "execution_count": 8,
   "metadata": {
    "collapsed": false,
    "deletable": true,
    "editable": true
   },
   "outputs": [
    {
     "data": {
      "text/plain": [
       "eval = org.deeplearning4j.eval.Evaluation@b15dc9d\n"
      ]
     },
     "metadata": {},
     "output_type": "display_data"
    },
    {
     "data": {
      "text/plain": [
       "true"
      ]
     },
     "execution_count": 8,
     "metadata": {},
     "output_type": "execute_result"
    },
    {
     "name": "stdout",
     "output_type": "stream",
     "text": [
      "\n",
      "Examples labeled as 0 classified by model as 0: 17 times\n",
      "Examples labeled as 1 classified by model as 1: 16 times\n",
      "Examples labeled as 1 classified by model as 2: 3 times\n",
      "Examples labeled as 2 classified by model as 2: 21 times\n",
      "\n",
      "\n",
      "==========================Scores========================================\n",
      " Accuracy:        0.9474\n",
      " Precision:       0.9583\n",
      " Recall:          0.9474\n",
      " F1 Score:        0.9528\n",
      "========================================================================\n"
     ]
    }
   ],
   "source": [
    "val eval = sparkNet.evaluate(fromLabeledPoint(test, 3))\n",
    "println(eval.stats())\n",
    "tm.deleteTempFiles(sc)"
   ]
  },
  {
   "cell_type": "code",
   "execution_count": null,
   "metadata": {
    "collapsed": true,
    "deletable": true,
    "editable": true
   },
   "outputs": [],
   "source": []
  },
  {
   "cell_type": "code",
   "execution_count": null,
   "metadata": {
    "collapsed": true,
    "deletable": true,
    "editable": true
   },
   "outputs": [],
   "source": []
  }
 ],
 "metadata": {
  "kernelspec": {
   "display_name": "Apache Toree - Scala - DL4j",
   "language": "scala",
   "name": "apache_toree_scala-dl4j"
  },
  "language_info": {
   "codemirror_mode": "text/x-scala",
   "file_extension": ".scala",
   "mimetype": "text/x-scala",
   "name": "scala",
   "pygments_lexer": "scala",
   "version": "2.10.5"
  }
 },
 "nbformat": 4,
 "nbformat_minor": 2
}
